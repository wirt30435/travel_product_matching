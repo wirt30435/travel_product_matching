{
  "nbformat": 4,
  "nbformat_minor": 0,
  "metadata": {
    "colab": {
      "provenance": [],
      "authorship_tag": "ABX9TyOLPY9slY+PuN1QAUmNZBlB",
      "include_colab_link": true
    },
    "kernelspec": {
      "name": "python3",
      "display_name": "Python 3"
    },
    "language_info": {
      "name": "python"
    }
  },
  "cells": [
    {
      "cell_type": "markdown",
      "metadata": {
        "id": "view-in-github",
        "colab_type": "text"
      },
      "source": [
        "<a href=\"https://colab.research.google.com/github/wirt30435/travel_product_matching/blob/en_mapping/%E6%AF%94%E5%B0%8D%E6%97%85%E9%81%8A%E7%94%A2%E5%93%81.ipynb\" target=\"_parent\"><img src=\"https://colab.research.google.com/assets/colab-badge.svg\" alt=\"Open In Colab\"/></a>"
      ]
    },
    {
      "cell_type": "code",
      "execution_count": 1,
      "metadata": {
        "collapsed": true,
        "id": "ha2ofQQAWoGL"
      },
      "outputs": [],
      "source": [
        "from google.colab import auth\n",
        "auth.authenticate_user()"
      ]
    },
    {
      "cell_type": "code",
      "source": [
        "# 📌 安裝套件\n",
        "!pip install --upgrade google-cloud-bigquery\n",
        "!pip install pandas jieba rapidfuzz googletrans==4.0.0-rc1\n",
        "\n",
        "# 📌 匯入套件\n",
        "import pandas as pd\n",
        "import jieba\n",
        "from google.colab import auth\n",
        "from google.cloud import bigquery\n",
        "from tqdm import tqdm\n",
        "from multiprocessing import Pool, cpu_count\n",
        "from datetime import datetime\n",
        "from googletrans import Translator\n",
        "import itertools\n",
        "import os\n",
        "\n",
        "# ✅ Step 1: Google 認證\n",
        "auth.authenticate_user()\n",
        "\n",
        "# ✅ Step 2: BigQuery client 初始化\n",
        "project_id = \"bishare-1606\"\n",
        "dataset = \"jessica_test\"\n",
        "client = bigquery.Client(project=project_id)\n",
        "\n",
        "# ✅ Step 3: 翻譯功能（中文轉英文）\n",
        "translator = Translator()\n",
        "\n",
        "def translate_to_english(text):\n",
        "    try:\n",
        "        result = translator.translate(text, dest='en')\n",
        "        return result.text\n",
        "    except Exception as e:\n",
        "        print(f\"[⚠️ 翻譯失敗] {text} -> {e}\")\n",
        "        return \"\"\n",
        "\n",
        "# ✅ Step 4: 載入 A/B 表資料\n",
        "vendor_A_table = f\"{project_id}.{dataset}.vendor_A\"\n",
        "vendor_B_table = f\"{project_id}.{dataset}.vendor_B\"\n",
        "\n",
        "query_A = f\"SELECT product_id, product_name, product_location_country, price FROM `{vendor_A_table}`\"\n",
        "query_B = f\"SELECT product_id, product_name, product_location_country, price FROM `{vendor_B_table}`\"\n",
        "\n",
        "df_A = client.query(query_A).to_dataframe()\n",
        "df_B = client.query(query_B).to_dataframe()\n",
        "\n",
        "# ✅ Step 5: 翻譯商品名稱\n",
        "print(\"🔤 正在翻譯商品名稱...\")\n",
        "df_A['product_name_en'] = df_A['product_name'].apply(translate_to_english)\n",
        "df_B['product_name_en'] = df_B['product_name'].apply(translate_to_english)\n",
        "\n",
        "# ✅ Step 6: 英文斷詞 function（空格切詞）\n",
        "def tokenize(text):\n",
        "    if not isinstance(text, str):\n",
        "        return set()\n",
        "    return set(text.lower().split())\n",
        "\n",
        "# ✅ Step 7: 比對 function（多核心）\n",
        "def compare_product(row_a):\n",
        "    row_results = []\n",
        "    tokens_a = tokenize(row_a['product_name_en'])\n",
        "    country = row_a['product_location_country']\n",
        "    df_b_filtered = df_B[df_B['product_location_country'] == country]\n",
        "\n",
        "    best_score = 0\n",
        "    best_b_row = None\n",
        "\n",
        "    for _, row_b in df_b_filtered.iterrows():\n",
        "        tokens_b = tokenize(row_b['product_name_en'])\n",
        "\n",
        "        if abs(len(tokens_a) - len(tokens_b)) > 5:\n",
        "            continue\n",
        "\n",
        "        intersection = tokens_a & tokens_b\n",
        "        union = tokens_a | tokens_b\n",
        "        jaccard_score = len(intersection) / len(union) if union else 0\n",
        "\n",
        "        if jaccard_score > best_score:\n",
        "            best_score = jaccard_score\n",
        "            best_b_row = row_b\n",
        "\n",
        "    if best_b_row is not None and best_score >= 0.2:\n",
        "        vendor_a_price = row_a['price'] if row_a['price'] is not None else 0\n",
        "        vendor_b_price = best_b_row['price'] if best_b_row['price'] is not None else 0\n",
        "        price_diff = vendor_b_price - vendor_a_price\n",
        "\n",
        "        row_results.append({\n",
        "            'product_location_country': country,\n",
        "            'vendor_A_product_id': row_a['product_id'],\n",
        "            'vendor_A_product_name': row_a['product_name'],\n",
        "            'vendor_A_product_name_en': row_a['product_name_en'],\n",
        "            'vendor_A_price': vendor_a_price,\n",
        "            'vendor_B_product_id': best_b_row['product_id'],\n",
        "            'vendor_B_product_name': best_b_row['product_name'],\n",
        "            'vendor_B_product_name_en': best_b_row['product_name_en'],\n",
        "            'vendor_B_price': vendor_b_price,\n",
        "            'jaccard_score': best_score,\n",
        "            'price_diff': price_diff\n",
        "        })\n",
        "\n",
        "    return row_results\n",
        "\n",
        "# ✅ Step 8: 多進程比對執行\n",
        "print(\"🚀 啟動多核心比對中...\")\n",
        "\n",
        "with Pool(processes=os.cpu_count()) as pool:\n",
        "    all_results = list(tqdm(pool.imap(compare_product, df_A.to_dict(orient='records')), total=len(df_A)))\n",
        "\n",
        "# ✅ Step 9: 合併結果\n",
        "flat_results = list(itertools.chain.from_iterable(all_results))\n",
        "matched_df = pd.DataFrame(flat_results)\n",
        "\n",
        "# ✅ Step 10: 寫入 BigQuery\n",
        "today_str = datetime.today().strftime('%Y%m%d')\n",
        "destination_table = f\"{dataset}.experience_products_matched_results_en_{today_str}\"\n",
        "\n",
        "matched_df.to_gbq(destination_table=destination_table,\n",
        "                  project_id=project_id,\n",
        "                  if_exists='replace')\n",
        "\n",
        "print(f\"✅ 共比對成功 {len(matched_df)} 筆資料\")\n",
        "print(f\"✅ 已寫入 BigQuery 表格：{destination_table}\")\n",
        "\n"
      ],
      "metadata": {
        "colab": {
          "base_uri": "https://localhost:8080/"
        },
        "id": "q4h_tlNaXmat",
        "outputId": "e10e3690-a769-4726-d261-b6dfe24780e8"
      },
      "execution_count": 1,
      "outputs": [
        {
          "output_type": "stream",
          "name": "stdout",
          "text": [
            "Requirement already satisfied: google-cloud-bigquery in /usr/local/lib/python3.11/dist-packages (3.35.0)\n",
            "Requirement already satisfied: google-api-core<3.0.0,>=2.11.1 in /usr/local/lib/python3.11/dist-packages (from google-api-core[grpc]<3.0.0,>=2.11.1->google-cloud-bigquery) (2.25.1)\n",
            "Requirement already satisfied: google-auth<3.0.0,>=2.14.1 in /usr/local/lib/python3.11/dist-packages (from google-cloud-bigquery) (2.38.0)\n",
            "Requirement already satisfied: google-cloud-core<3.0.0,>=2.4.1 in /usr/local/lib/python3.11/dist-packages (from google-cloud-bigquery) (2.4.3)\n",
            "Requirement already satisfied: google-resumable-media<3.0.0,>=2.0.0 in /usr/local/lib/python3.11/dist-packages (from google-cloud-bigquery) (2.7.2)\n",
            "Requirement already satisfied: packaging>=24.2.0 in /usr/local/lib/python3.11/dist-packages (from google-cloud-bigquery) (25.0)\n",
            "Requirement already satisfied: python-dateutil<3.0.0,>=2.8.2 in /usr/local/lib/python3.11/dist-packages (from google-cloud-bigquery) (2.9.0.post0)\n",
            "Requirement already satisfied: requests<3.0.0,>=2.21.0 in /usr/local/lib/python3.11/dist-packages (from google-cloud-bigquery) (2.32.3)\n",
            "Requirement already satisfied: googleapis-common-protos<2.0.0,>=1.56.2 in /usr/local/lib/python3.11/dist-packages (from google-api-core<3.0.0,>=2.11.1->google-api-core[grpc]<3.0.0,>=2.11.1->google-cloud-bigquery) (1.70.0)\n",
            "Requirement already satisfied: protobuf!=3.20.0,!=3.20.1,!=4.21.0,!=4.21.1,!=4.21.2,!=4.21.3,!=4.21.4,!=4.21.5,<7.0.0,>=3.19.5 in /usr/local/lib/python3.11/dist-packages (from google-api-core<3.0.0,>=2.11.1->google-api-core[grpc]<3.0.0,>=2.11.1->google-cloud-bigquery) (5.29.5)\n",
            "Requirement already satisfied: proto-plus<2.0.0,>=1.22.3 in /usr/local/lib/python3.11/dist-packages (from google-api-core<3.0.0,>=2.11.1->google-api-core[grpc]<3.0.0,>=2.11.1->google-cloud-bigquery) (1.26.1)\n",
            "Requirement already satisfied: grpcio<2.0.0,>=1.33.2 in /usr/local/lib/python3.11/dist-packages (from google-api-core[grpc]<3.0.0,>=2.11.1->google-cloud-bigquery) (1.73.1)\n",
            "Requirement already satisfied: grpcio-status<2.0.0,>=1.33.2 in /usr/local/lib/python3.11/dist-packages (from google-api-core[grpc]<3.0.0,>=2.11.1->google-cloud-bigquery) (1.71.2)\n",
            "Requirement already satisfied: cachetools<6.0,>=2.0.0 in /usr/local/lib/python3.11/dist-packages (from google-auth<3.0.0,>=2.14.1->google-cloud-bigquery) (5.5.2)\n",
            "Requirement already satisfied: pyasn1-modules>=0.2.1 in /usr/local/lib/python3.11/dist-packages (from google-auth<3.0.0,>=2.14.1->google-cloud-bigquery) (0.4.2)\n",
            "Requirement already satisfied: rsa<5,>=3.1.4 in /usr/local/lib/python3.11/dist-packages (from google-auth<3.0.0,>=2.14.1->google-cloud-bigquery) (4.9.1)\n",
            "Requirement already satisfied: google-crc32c<2.0dev,>=1.0 in /usr/local/lib/python3.11/dist-packages (from google-resumable-media<3.0.0,>=2.0.0->google-cloud-bigquery) (1.7.1)\n",
            "Requirement already satisfied: six>=1.5 in /usr/local/lib/python3.11/dist-packages (from python-dateutil<3.0.0,>=2.8.2->google-cloud-bigquery) (1.17.0)\n",
            "Requirement already satisfied: charset-normalizer<4,>=2 in /usr/local/lib/python3.11/dist-packages (from requests<3.0.0,>=2.21.0->google-cloud-bigquery) (3.4.2)\n",
            "Requirement already satisfied: idna<4,>=2.5 in /usr/local/lib/python3.11/dist-packages (from requests<3.0.0,>=2.21.0->google-cloud-bigquery) (2.10)\n",
            "Requirement already satisfied: urllib3<3,>=1.21.1 in /usr/local/lib/python3.11/dist-packages (from requests<3.0.0,>=2.21.0->google-cloud-bigquery) (2.5.0)\n",
            "Requirement already satisfied: certifi>=2017.4.17 in /usr/local/lib/python3.11/dist-packages (from requests<3.0.0,>=2.21.0->google-cloud-bigquery) (2025.7.14)\n",
            "Requirement already satisfied: pyasn1<0.7.0,>=0.6.1 in /usr/local/lib/python3.11/dist-packages (from pyasn1-modules>=0.2.1->google-auth<3.0.0,>=2.14.1->google-cloud-bigquery) (0.6.1)\n",
            "Requirement already satisfied: pandas in /usr/local/lib/python3.11/dist-packages (2.2.2)\n",
            "Requirement already satisfied: jieba in /usr/local/lib/python3.11/dist-packages (0.42.1)\n",
            "Requirement already satisfied: rapidfuzz in /usr/local/lib/python3.11/dist-packages (3.13.0)\n",
            "Requirement already satisfied: googletrans==4.0.0-rc1 in /usr/local/lib/python3.11/dist-packages (4.0.0rc1)\n",
            "Requirement already satisfied: httpx==0.13.3 in /usr/local/lib/python3.11/dist-packages (from googletrans==4.0.0-rc1) (0.13.3)\n",
            "Requirement already satisfied: certifi in /usr/local/lib/python3.11/dist-packages (from httpx==0.13.3->googletrans==4.0.0-rc1) (2025.7.14)\n",
            "Requirement already satisfied: hstspreload in /usr/local/lib/python3.11/dist-packages (from httpx==0.13.3->googletrans==4.0.0-rc1) (2025.1.1)\n",
            "Requirement already satisfied: sniffio in /usr/local/lib/python3.11/dist-packages (from httpx==0.13.3->googletrans==4.0.0-rc1) (1.3.1)\n",
            "Requirement already satisfied: chardet==3.* in /usr/local/lib/python3.11/dist-packages (from httpx==0.13.3->googletrans==4.0.0-rc1) (3.0.4)\n",
            "Requirement already satisfied: idna==2.* in /usr/local/lib/python3.11/dist-packages (from httpx==0.13.3->googletrans==4.0.0-rc1) (2.10)\n",
            "Requirement already satisfied: rfc3986<2,>=1.3 in /usr/local/lib/python3.11/dist-packages (from httpx==0.13.3->googletrans==4.0.0-rc1) (1.5.0)\n",
            "Requirement already satisfied: httpcore==0.9.* in /usr/local/lib/python3.11/dist-packages (from httpx==0.13.3->googletrans==4.0.0-rc1) (0.9.1)\n",
            "Requirement already satisfied: h11<0.10,>=0.8 in /usr/local/lib/python3.11/dist-packages (from httpcore==0.9.*->httpx==0.13.3->googletrans==4.0.0-rc1) (0.9.0)\n",
            "Requirement already satisfied: h2==3.* in /usr/local/lib/python3.11/dist-packages (from httpcore==0.9.*->httpx==0.13.3->googletrans==4.0.0-rc1) (3.2.0)\n",
            "Requirement already satisfied: hyperframe<6,>=5.2.0 in /usr/local/lib/python3.11/dist-packages (from h2==3.*->httpcore==0.9.*->httpx==0.13.3->googletrans==4.0.0-rc1) (5.2.0)\n",
            "Requirement already satisfied: hpack<4,>=3.0 in /usr/local/lib/python3.11/dist-packages (from h2==3.*->httpcore==0.9.*->httpx==0.13.3->googletrans==4.0.0-rc1) (3.0.0)\n",
            "Requirement already satisfied: numpy>=1.23.2 in /usr/local/lib/python3.11/dist-packages (from pandas) (2.0.2)\n",
            "Requirement already satisfied: python-dateutil>=2.8.2 in /usr/local/lib/python3.11/dist-packages (from pandas) (2.9.0.post0)\n",
            "Requirement already satisfied: pytz>=2020.1 in /usr/local/lib/python3.11/dist-packages (from pandas) (2025.2)\n",
            "Requirement already satisfied: tzdata>=2022.7 in /usr/local/lib/python3.11/dist-packages (from pandas) (2025.2)\n",
            "Requirement already satisfied: six>=1.5 in /usr/local/lib/python3.11/dist-packages (from python-dateutil>=2.8.2->pandas) (1.17.0)\n",
            "🔤 正在翻譯商品名稱...\n",
            "🚀 啟動多核心比對中...\n"
          ]
        },
        {
          "output_type": "stream",
          "name": "stderr",
          "text": [
            "100%|██████████| 3473/3473 [03:42<00:00, 15.59it/s]\n",
            "/tmp/ipython-input-1-749729985.py:116: FutureWarning: to_gbq is deprecated and will be removed in a future version. Please use pandas_gbq.to_gbq instead: https://pandas-gbq.readthedocs.io/en/latest/api.html#pandas_gbq.to_gbq\n",
            "  matched_df.to_gbq(destination_table=destination_table,\n",
            "100%|██████████| 1/1 [00:00<00:00, 4198.50it/s]"
          ]
        },
        {
          "output_type": "stream",
          "name": "stdout",
          "text": [
            "✅ 共比對成功 2641 筆資料\n",
            "✅ 已寫入 BigQuery 表格：jessica_test.experience_products_matched_results_en_20250724\n"
          ]
        },
        {
          "output_type": "stream",
          "name": "stderr",
          "text": [
            "\n"
          ]
        }
      ]
    }
  ]
}